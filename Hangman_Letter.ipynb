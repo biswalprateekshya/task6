{
 "cells": [
  {
   "cell_type": "code",
   "execution_count": 1,
   "id": "d3506f12",
   "metadata": {},
   "outputs": [
    {
     "name": "stdout",
     "output_type": "stream",
     "text": [
      "Ok, so the word You need to guess has 5 characters\n",
      "Be aware that You can enter only 1 letter from a-z\n",
      "\n",
      "['-', '-', '-', '-', '-']\n",
      "Pick a letter>a\n",
      "You guessed correctly!\n",
      "['-', 'a', '-', '-', '-']\n",
      "Pick a letter>s\n",
      "The letter is not in the word. Try Again!\n",
      "Pick a letter>o\n",
      "You guessed correctly!\n",
      "['-', 'a', '-', '-', 'o']\n",
      "Pick a letter>i\n",
      "The letter is not in the word. Try Again!\n",
      "Pick a letter>m\n",
      "You guessed correctly!\n",
      "['m', 'a', '-', '-', 'o']\n",
      "Pick a letter>h\n",
      "The letter is not in the word. Try Again!\n",
      "Pick a letter>g\n",
      "You guessed correctly!\n",
      "['m', 'a', '-', 'g', 'o']\n",
      "Pick a letter>t\n",
      "The letter is not in the word. Try Again!\n",
      "Pick a letter>y\n",
      "The letter is not in the word. Try Again!\n",
      "Pick a letter>n\n",
      "You guessed correctly!\n",
      "['m', 'a', 'n', 'g', 'o']\n",
      "You won!\n",
      "Game Over!\n"
     ]
    }
   ],
   "source": [
    "\n",
    "import random\n",
    "words =['watermelon','sugarApple','strawberries','pomegranate','pineapple','pear','orange','papaya','lychee','mango','grapes','guava','banana','apple']\n",
    "guess_word = []\n",
    "secretWord = random.choice(words) # lets randomize single word from the list\n",
    "length_word = len(secretWord)\n",
    "alphabet = \"abcdefghijklmnopqrstuvwxyz\"\n",
    "letter_storage = []\n",
    "def change():\n",
    "    for character in secretWord: # printing blanks for each letter in secret word\n",
    "        guess_word.append(\"-\")\n",
    "    print(\"Ok, so the word You need to guess has\", length_word, \"characters\")\n",
    "    print(\"Be aware that You can enter only 1 letter from a-z\\n\")\n",
    "    print(guess_word)\n",
    "def guessing():\n",
    "    guess_taken = 1\n",
    "    while guess_taken < 10:\n",
    "        guess = input(\"Pick a letter>\").lower()\n",
    "        if guess not in alphabet: #checking input\n",
    "            print(\"Enter a letter from a-z alphabet\")\n",
    "        else: \n",
    "            letter_storage.append(guess)\n",
    "            if guess in secretWord:\n",
    "                print(\"You guessed correctly!\")\n",
    "                for x in range(0, length_word): #This Part I just don't get it\n",
    "                    if secretWord[x] == guess:\n",
    "                        guess_word[x] = guess\n",
    "                        print(guess_word)\n",
    "                if '-'not in guess_word:\n",
    "                    print(\"You won!\")\n",
    "                    break\n",
    "            else:\n",
    "                print(\"The letter is not in the word. Try Again!\")\n",
    "                guess_taken += 1\n",
    "                if guess_taken == 10:\n",
    "                    print(\" Sorry Mate, You lost :<! The secret word was\",secretWord)\n",
    "change()\n",
    "guessing()\n",
    "print(\"Game Over!\")"
   ]
  },
  {
   "cell_type": "code",
   "execution_count": null,
   "id": "415e6f5d",
   "metadata": {},
   "outputs": [],
   "source": []
  }
 ],
 "metadata": {
  "kernelspec": {
   "display_name": "Python 3 (ipykernel)",
   "language": "python",
   "name": "python3"
  },
  "language_info": {
   "codemirror_mode": {
    "name": "ipython",
    "version": 3
   },
   "file_extension": ".py",
   "mimetype": "text/x-python",
   "name": "python",
   "nbconvert_exporter": "python",
   "pygments_lexer": "ipython3",
   "version": "3.9.7"
  }
 },
 "nbformat": 4,
 "nbformat_minor": 5
}
